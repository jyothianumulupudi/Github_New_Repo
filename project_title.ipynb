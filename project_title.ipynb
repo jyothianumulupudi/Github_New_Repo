{
  "nbformat": 4,
  "nbformat_minor": 0,
  "metadata": {
    "colab": {
      "name": "project_title.ipynb",
      "provenance": []
    },
    "kernelspec": {
      "name": "python3",
      "display_name": "Python 3"
    },
    "language_info": {
      "name": "python"
    }
  },
  "cells": [
    {
      "cell_type": "code",
      "execution_count": 1,
      "metadata": {
        "colab": {
          "base_uri": "https://localhost:8080/"
        },
        "id": "L9ek8KP4b-vT",
        "outputId": "eef05858-644f-470e-9053-f67bcc0b88b6"
      },
      "outputs": [
        {
          "output_type": "stream",
          "name": "stdout",
          "text": [
            "     Project Title   \n",
            "     Jyothi's Project    \n"
          ]
        }
      ],
      "source": [
        "print(\"     Project Title   \")\n",
        "print(\"     Jyothi's Project    \")"
      ]
    }
  ]
}